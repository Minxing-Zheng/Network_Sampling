{
 "cells": [
  {
   "cell_type": "code",
   "execution_count": 1,
   "metadata": {},
   "outputs": [],
   "source": [
    "import networkx as nx\n",
    "import pandas as pd\n",
    "import pickle\n",
    "import numpy as np\n",
    "from pathlib import Path\n",
    "import matplotlib.pyplot as plt \n",
    "import seaborn as sns\n",
    "import scipy.spatial.distance as spsd\n",
    "import scipy.linalg as spla\n",
    "import sys\n",
    "import random\n",
    "import math\n",
    "import itertools\n",
    "import operator"
   ]
  },
  {
   "cell_type": "code",
   "execution_count": 4,
   "metadata": {},
   "outputs": [
    {
     "data": {
      "text/plain": [
       "45"
      ]
     },
     "execution_count": 4,
     "metadata": {},
     "output_type": "execute_result"
    }
   ],
   "source": [
    "path='/Users/app/Desktop/Net/NetSampling/pkl'\n",
    "result=list(Path(path).glob(\"*\"+'.pkl'))\n",
    "len(result)\n"
   ]
  },
  {
   "cell_type": "code",
   "execution_count": 8,
   "metadata": {},
   "outputs": [],
   "source": [
    "node={}\n",
    "for a in ['ER','SBM','WS','BA','Graphon']:\n",
    "    node[str(a)]={}\n",
    "    for b in ['low','mid','high']:\n",
    "        node[str(a)][str(b)]={}\n",
    "        #for c in ['degree','clustering','community','eigenvalue']:\n",
    "            #node[str(a)][str(b)][str(c)]={}\n",
    "node={}\n",
    "for a in ['ER','SBM','WS','BA','Graphon']:\n",
    "    node[str(a)]={}\n",
    "    for b in ['low','mid','high']:\n",
    "        node[str(a)][str(b)]={}\n",
    "        for c in ['degree','clustering','community','eigenvalue']:\n",
    "            node[str(a)][str(b)][str(c)]=[str(x )for x in result if f\"{a}_{b}_{c}\" in str(x)]\n",
    "            \n"
   ]
  },
  {
   "cell_type": "code",
   "execution_count": 19,
   "metadata": {},
   "outputs": [],
   "source": [
    "for i in range(len(node['ER']['high']['degree'])):\n",
    "    with open(node['ER']['high']['degree'][i],'rb') as f:\n",
    "        r=pickle.load(f)\n",
    "    for re in r:\n",
    "        re[0][0]"
   ]
  },
  {
   "cell_type": "code",
   "execution_count": null,
   "metadata": {},
   "outputs": [],
   "source": []
  }
 ],
 "metadata": {
  "kernelspec": {
   "display_name": "Python 3",
   "language": "python",
   "name": "python3"
  },
  "language_info": {
   "codemirror_mode": {
    "name": "ipython",
    "version": 3
   },
   "file_extension": ".py",
   "mimetype": "text/x-python",
   "name": "python",
   "nbconvert_exporter": "python",
   "pygments_lexer": "ipython3",
   "version": "3.8.3"
  }
 },
 "nbformat": 4,
 "nbformat_minor": 4
}
