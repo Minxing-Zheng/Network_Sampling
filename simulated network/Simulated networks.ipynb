{
 "cells": [
  {
   "cell_type": "code",
   "execution_count": 2,
   "metadata": {},
   "outputs": [],
   "source": [
    "import networkx as nx \n",
    "import numpy as np\n",
    "import pandas as pd\n",
    "import community\n",
    "from rpy2 import robjects\n",
    "import rpy2.robjects.packages as rpackages\n",
    "mclust = rpackages.importr(\"mclust\")\n",
    "import rpy2.robjects.numpy2ri\n",
    "rpy2.robjects.numpy2ri.activate()\n",
    "import matplotlib.pyplot as plt\n",
    "import pickle"
   ]
  },
  {
   "cell_type": "markdown",
   "metadata": {},
   "source": [
    "## ER"
   ]
  },
  {
   "cell_type": "code",
   "execution_count": 7,
   "metadata": {},
   "outputs": [
    {
     "name": "stdout",
     "output_type": "stream",
     "text": [
      "Name: \n",
      "Type: Graph\n",
      "Number of nodes: 10000\n",
      "Number of edges: 50110\n",
      "Average degree:  10.0220\n",
      "0.0010023002300230024\n"
     ]
    }
   ],
   "source": [
    "ER=nx.erdos_renyi_graph(n=100,p=0.001,seed=0)\n",
    "print(nx.info(ER))\n",
    "print(nx.density(ER))\n",
    "with open(\"/Users/app/Desktop/科研资料/With Prof/Prof Qin/Networ Sampling/Variable/ER_model_low.pkl\",'wb') as f:\n",
    "    pickle.dump(ER,f)"
   ]
  },
  {
   "cell_type": "code",
   "execution_count": 8,
   "metadata": {},
   "outputs": [
    {
     "name": "stdout",
     "output_type": "stream",
     "text": [
      "Name: \n",
      "Type: Graph\n",
      "Number of nodes: 10000\n",
      "Number of edges: 500850\n",
      "Average degree: 100.1700\n",
      "0.010018001800180018\n"
     ]
    }
   ],
   "source": [
    "ER=nx.erdos_renyi_graph(n=10000,p=0.01,seed=0)\n",
    "print(nx.info(ER))\n",
    "print(nx.density(ER))\n",
    "with open(\"/Users/app/Desktop/科研资料/With Prof/Prof Qin/Networ Sampling/Variable/ER_model_mid.pkl\",'wb') as f:\n",
    "    pickle.dump(ER,f)"
   ]
  },
  {
   "cell_type": "code",
   "execution_count": 9,
   "metadata": {},
   "outputs": [
    {
     "name": "stdout",
     "output_type": "stream",
     "text": [
      "Name: \n",
      "Type: Graph\n",
      "Number of nodes: 10000\n",
      "Number of edges: 5001104\n",
      "Average degree: 1000.2208\n",
      "0.10003208320832083\n"
     ]
    }
   ],
   "source": [
    "ER=nx.erdos_renyi_graph(n=10000,p=0.1,seed=0)\n",
    "print(nx.info(ER))\n",
    "print(nx.density(ER))\n",
    "with open(\"/Users/app/Desktop/科研资料/With Prof/Prof Qin/Networ Sampling/Variable/ER_model_high.pkl\",'wb') as f:\n",
    "    pickle.dump(ER,f)"
   ]
  },
  {
   "cell_type": "code",
   "execution_count": 55,
   "metadata": {},
   "outputs": [],
   "source": [
    "model=ER\n",
    "A=nx.adjacency_matrix(model)\n",
    "eigval,eigvec=np.linalg.eig(A.A)\n",
    "idx = eigval.argsort()[::-1]   \n",
    "eigval =eigval[idx]\n",
    "eigvec = eigvec[:,idx]"
   ]
  },
  {
   "cell_type": "code",
   "execution_count": 59,
   "metadata": {},
   "outputs": [
    {
     "name": "stdout",
     "output_type": "stream",
     "text": [
      "1\n"
     ]
    }
   ],
   "source": [
    "for x in range(1):\n",
    "    print(1)"
   ]
  },
  {
   "cell_type": "markdown",
   "metadata": {},
   "source": [
    "## WS"
   ]
  },
  {
   "cell_type": "code",
   "execution_count": 10,
   "metadata": {},
   "outputs": [
    {
     "name": "stdout",
     "output_type": "stream",
     "text": [
      "Name: \n",
      "Type: Graph\n",
      "Number of nodes: 10000\n",
      "Number of edges: 20000\n",
      "Average degree:   4.0000\n",
      "0.00040004000400040005\n"
     ]
    }
   ],
   "source": [
    "WS=nx.watts_strogatz_graph(n=10000, k=4, p=0.3, seed=0)\n",
    "print(nx.info(WS))\n",
    "print(nx.density(WS))\n",
    "with open(\"/Users/app/Desktop/科研资料/With Prof/Prof Qin/Networ Sampling/Variable/WS_model_low.pkl\",'wb') as f:\n",
    "    pickle.dump(WS,f)"
   ]
  },
  {
   "cell_type": "code",
   "execution_count": 11,
   "metadata": {},
   "outputs": [
    {
     "name": "stdout",
     "output_type": "stream",
     "text": [
      "Name: \n",
      "Type: Graph\n",
      "Number of nodes: 10000\n",
      "Number of edges: 40000\n",
      "Average degree:   8.0000\n",
      "0.0008000800080008001\n"
     ]
    }
   ],
   "source": [
    "WS=nx.watts_strogatz_graph(n=10000, k=8, p=0.3, seed=0)\n",
    "print(nx.info(WS))\n",
    "print(nx.density(WS))\n",
    "with open(\"/Users/app/Desktop/科研资料/With Prof/Prof Qin/Networ Sampling/Variable/WS_model_mid.pkl\",'wb') as f:\n",
    "    pickle.dump(WS,f)"
   ]
  },
  {
   "cell_type": "code",
   "execution_count": 12,
   "metadata": {},
   "outputs": [
    {
     "name": "stdout",
     "output_type": "stream",
     "text": [
      "Name: \n",
      "Type: Graph\n",
      "Number of nodes: 10000\n",
      "Number of edges: 60000\n",
      "Average degree:  12.0000\n",
      "0.0012001200120012002\n"
     ]
    }
   ],
   "source": [
    "WS=nx.watts_strogatz_graph(n=10000, k=12, p=0.3, seed=0)\n",
    "print(nx.info(WS))\n",
    "print(nx.density(WS))\n",
    "with open(\"/Users/app/Desktop/科研资料/With Prof/Prof Qin/Networ Sampling/Variable/WS_model_high.pkl\",'wb') as f:\n",
    "    pickle.dump(WS,f)"
   ]
  },
  {
   "cell_type": "markdown",
   "metadata": {},
   "source": [
    "## BA"
   ]
  },
  {
   "cell_type": "code",
   "execution_count": 13,
   "metadata": {},
   "outputs": [
    {
     "name": "stdout",
     "output_type": "stream",
     "text": [
      "Name: \n",
      "Type: Graph\n",
      "Number of nodes: 10000\n",
      "Number of edges: 19996\n",
      "Average degree:   3.9992\n",
      "0.0003999599959996\n"
     ]
    }
   ],
   "source": [
    "BA=nx.barabasi_albert_graph(10000,2,seed=0)\n",
    "print(nx.info(BA))\n",
    "print(nx.density(BA))\n",
    "with open(\"/Users/app/Desktop/科研资料/With Prof/Prof Qin/Networ Sampling/Variable/BA_model_low.pkl\",'wb') as f:\n",
    "    pickle.dump(BA,f)"
   ]
  },
  {
   "cell_type": "code",
   "execution_count": 14,
   "metadata": {},
   "outputs": [
    {
     "name": "stdout",
     "output_type": "stream",
     "text": [
      "Name: \n",
      "Type: Graph\n",
      "Number of nodes: 10000\n",
      "Number of edges: 59964\n",
      "Average degree:  11.9928\n",
      "0.0011993999399939994\n"
     ]
    }
   ],
   "source": [
    "BA=nx.barabasi_albert_graph(10000,6,seed=0)\n",
    "print(nx.info(BA))\n",
    "print(nx.density(BA))\n",
    "with open(\"/Users/app/Desktop/科研资料/With Prof/Prof Qin/Networ Sampling/Variable/BA_model_mid.pkl\",'wb') as f:\n",
    "    pickle.dump(BA,f)"
   ]
  },
  {
   "cell_type": "code",
   "execution_count": 15,
   "metadata": {},
   "outputs": [
    {
     "name": "stdout",
     "output_type": "stream",
     "text": [
      "Name: \n",
      "Type: Graph\n",
      "Number of nodes: 10000\n",
      "Number of edges: 99900\n",
      "Average degree:  19.9800\n",
      "0.001998199819981998\n"
     ]
    }
   ],
   "source": [
    "BA=nx.barabasi_albert_graph(10000,10,seed=0)\n",
    "print(nx.info(BA))\n",
    "print(nx.density(BA))\n",
    "with open(\"/Users/app/Desktop/科研资料/With Prof/Prof Qin/Networ Sampling/Variable/BA_model_high.pkl\",'wb') as f:\n",
    "    pickle.dump(BA,f)"
   ]
  },
  {
   "cell_type": "markdown",
   "metadata": {},
   "source": [
    "## SBM"
   ]
  },
  {
   "cell_type": "code",
   "execution_count": 44,
   "metadata": {},
   "outputs": [
    {
     "name": "stdout",
     "output_type": "stream",
     "text": [
      "Name: stochastic_block_model\n",
      "Type: Graph\n",
      "Number of nodes: 10000\n",
      "Number of edges: 3398334\n",
      "Average degree: 679.6668\n",
      "0.06797347734773478\n"
     ]
    }
   ],
   "source": [
    "sizes = [2000, 2000, 6000]\n",
    "probs = [[0.3, 0.01, 0.01],\n",
    "        [0.01, 0.3, 0.02],\n",
    "        [0.01, 0.02, 0.1]]\n",
    "SBM = nx.stochastic_block_model(sizes, probs, seed=0)\n",
    "print(nx.info(SBM))\n",
    "print(nx.density(SBM))\n",
    "\n",
    "with open(\"/Users/app/Desktop/科研资料/With Prof/Prof Qin/Networ Sampling/Variable/SBM_model_high.pkl\",'wb') as f:\n",
    "    pickle.dump(SBM,f)"
   ]
  },
  {
   "cell_type": "code",
   "execution_count": 45,
   "metadata": {},
   "outputs": [
    {
     "name": "stdout",
     "output_type": "stream",
     "text": [
      "Name: stochastic_block_model\n",
      "Type: Graph\n",
      "Number of nodes: 10000\n",
      "Number of edges: 1698646\n",
      "Average degree: 339.7292\n",
      "0.033976317631763175\n"
     ]
    }
   ],
   "source": [
    "sizes = [2000, 2000, 6000]\n",
    "probs = [[0.15, 0.005, 0.005],\n",
    "        [0.005, 0.15, 0.01],\n",
    "        [0.005, 0.01, 0.05]]\n",
    "SBM = nx.stochastic_block_model(sizes, probs, seed=0)\n",
    "print(nx.info(SBM))\n",
    "print(nx.density(SBM))\n",
    "with open(\"/Users/app/Desktop/科研资料/With Prof/Prof Qin/Networ Sampling/Variable/SBM_model_mid.pkl\",'wb') as f:\n",
    "    pickle.dump(SBM,f)"
   ]
  },
  {
   "cell_type": "code",
   "execution_count": 46,
   "metadata": {},
   "outputs": [
    {
     "name": "stdout",
     "output_type": "stream",
     "text": [
      "Name: stochastic_block_model\n",
      "Type: Graph\n",
      "Number of nodes: 10000\n",
      "Number of edges: 339946\n",
      "Average degree:  67.9892\n",
      "0.006799599959995999\n"
     ]
    }
   ],
   "source": [
    "sizes = [2000, 2000, 6000]\n",
    "probs = [[0.03, 0.001, 0.001],\n",
    "        [0.001, 0.03, 0.002],\n",
    "        [0.001, 0.002, 0.01]]\n",
    "SBM = nx.stochastic_block_model(sizes, probs, seed=0)\n",
    "print(nx.info(SBM))\n",
    "print(nx.density(SBM))\n",
    "with open(\"/Users/app/Desktop/科研资料/With Prof/Prof Qin/Networ Sampling/Variable/SBM_model_low.pkl\",'wb') as f:\n",
    "    pickle.dump(SBM,f)"
   ]
  },
  {
   "cell_type": "code",
   "execution_count": 47,
   "metadata": {},
   "outputs": [
    {
     "name": "stdout",
     "output_type": "stream",
     "text": [
      "3 clusters based on modularity\n"
     ]
    }
   ],
   "source": [
    "#clustering related\n",
    "model=SBM\n",
    "part_model = community.best_partition(model)\n",
    "mod_model = community.modularity(part_model,model)\n",
    "clustnum_model=len(np.unique(list(part_model.values())))\n",
    "print(clustnum_model,'clusters based on modularity')\n"
   ]
  },
  {
   "cell_type": "code",
   "execution_count": 48,
   "metadata": {},
   "outputs": [
    {
     "data": {
      "text/plain": [
       "(array([0, 1, 2]), array([2000, 2000, 6000]))"
      ]
     },
     "execution_count": 48,
     "metadata": {},
     "output_type": "execute_result"
    }
   ],
   "source": [
    "np.unique(list(part_model.values()),return_counts=True)"
   ]
  },
  {
   "cell_type": "markdown",
   "metadata": {},
   "source": [
    "## Graphon"
   ]
  },
  {
   "cell_type": "code",
   "execution_count": 171,
   "metadata": {},
   "outputs": [
    {
     "data": {
      "text/plain": [
       "<matplotlib.colorbar.Colorbar at 0x7fbe316dd0a0>"
      ]
     },
     "execution_count": 171,
     "metadata": {},
     "output_type": "execute_result"
    },
    {
     "data": {
      "image/png": "[encoded data removed]",
      "text/plain": [
       "<Figure size 288x288 with 2 Axes>"
      ]
     },
     "metadata": {
      "needs_background": "light"
     },
     "output_type": "display_data"
    }
   ],
   "source": [
    "n=len(np.arange(0,1.01,0.01))\n",
    "m=np.zeros((n,n))\n",
    "for index_x,x in enumerate(np.arange(0,1.01,0.01)):\n",
    "    for index_y,y in enumerate(np.arange(0,1.01,0.01)):\n",
    "        m[index_x,index_y]=0.8*(1-x)*(1-y)+0.85*x*y\n",
    "        \n",
    "plt.matshow(m)        \n",
    "plt.colorbar()   "
   ]
  },
  {
   "cell_type": "code",
   "execution_count": 43,
   "metadata": {},
   "outputs": [],
   "source": [
    "def create_upper_matrix(values, size):\n",
    "    upper = np.zeros((size, size))\n",
    "    upper[np.triu_indices(size-1, 0)] = values\n",
    "    return(upper)"
   ]
  },
  {
   "cell_type": "code",
   "execution_count": 49,
   "metadata": {},
   "outputs": [],
   "source": [
    "size=10000\n",
    "uniform=np.random.rand(size)\n",
    "i_index=np.triu_indices(size, k=1)#indices for upper triangular matrix exclude diagonal indices(set k=1)\n",
    "p=np.zeros((size,size))\n",
    "for x,y in zip(i_index[0],i_index[1]):\n",
    "    value=(0.8*(1-uniform[x])*(1-uniform[y])+0.85*(uniform[x]*uniform[y]))/50\n",
    "    p[x,y]=value\n",
    "A=np.random.binomial(1, p=p)\n",
    "A.T[i_index] = A[i_index]"
   ]
  },
  {
   "cell_type": "code",
   "execution_count": 50,
   "metadata": {},
   "outputs": [
    {
     "name": "stdout",
     "output_type": "stream",
     "text": [
      "Name: \n",
      "Type: Graph\n",
      "Number of nodes: 10000\n",
      "Number of edges: 413002\n",
      "Average degree:  82.6004\n",
      "0.008260866086608662\n"
     ]
    }
   ],
   "source": [
    "Graphon=nx.from_numpy_matrix(A)\n",
    "print(nx.info(Graphon))\n",
    "print(nx.density(Graphon))\n",
    "#with open(\"/Users/app/Desktop/科研资料/With Prof/Prof Qin/Networ Sampling/Variable/Graphon_model_low.pkl\",'wb') as f:\n",
    "    #pickle.dump(Graphon,f)"
   ]
  },
  {
   "cell_type": "code",
   "execution_count": 51,
   "metadata": {},
   "outputs": [],
   "source": [
    "with open(\"/Users/app/Desktop/科研资料/With Prof/Prof Qin/Networ Sampling/Variable/Graphon_model_low.pkl\",'wb') as f:\n",
    "    pickle.dump(Graphon,f)"
   ]
  },
  {
   "cell_type": "code",
   "execution_count": 52,
   "metadata": {},
   "outputs": [
    {
     "name": "stdout",
     "output_type": "stream",
     "text": [
      "Name: \n",
      "Type: Graph\n",
      "Number of nodes: 10000\n",
      "Number of edges: 687344\n",
      "Average degree: 137.4688\n",
      "0.013748254825482548\n"
     ]
    }
   ],
   "source": [
    "size=10000\n",
    "uniform=np.random.rand(size)\n",
    "i_index=np.triu_indices(size, k=1)#indices for upper triangular matrix exclude diagonal indices(set k=1)\n",
    "p=np.zeros((size,size))\n",
    "for x,y in zip(i_index[0],i_index[1]):\n",
    "    value=(0.8*(1-uniform[x])*(1-uniform[y])+0.85*(uniform[x]*uniform[y]))/30\n",
    "    p[x,y]=value\n",
    "A=np.random.binomial(1, p=p)\n",
    "A.T[i_index] = A[i_index]\n",
    "Graphon=nx.from_numpy_matrix(A)\n",
    "print(nx.info(Graphon))\n",
    "print(nx.density(Graphon))\n",
    "with open(\"/Users/app/Desktop/科研资料/With Prof/Prof Qin/Networ Sampling/Variable/Graphon_model_mid.pkl\",'wb') as f:\n",
    "    pickle.dump(Graphon,f)"
   ]
  },
  {
   "cell_type": "code",
   "execution_count": 54,
   "metadata": {},
   "outputs": [
    {
     "name": "stdout",
     "output_type": "stream",
     "text": [
      "Name: \n",
      "Type: Graph\n",
      "Number of nodes: 10000\n",
      "Number of edges: 2059945\n",
      "Average degree: 411.9890\n",
      "0.041203020302030206\n"
     ]
    }
   ],
   "source": [
    "size=10000\n",
    "uniform=np.random.rand(size)\n",
    "i_index=np.triu_indices(size, k=1)#indices for upper triangular matrix exclude diagonal indices(set k=1)\n",
    "p=np.zeros((size,size))\n",
    "for x,y in zip(i_index[0],i_index[1]):\n",
    "    value=(0.8*(1-uniform[x])*(1-uniform[y])+0.85*(uniform[x]*uniform[y]))/10\n",
    "    p[x,y]=value\n",
    "A=np.random.binomial(1, p=p)\n",
    "A.T[i_index] = A[i_index]\n",
    "Graphon=nx.from_numpy_matrix(A)\n",
    "print(nx.info(Graphon))\n",
    "print(nx.density(Graphon))\n",
    "with open(\"/Users/app/Desktop/科研资料/With Prof/Prof Qin/Networ Sampling/Variable/Graphon_model_high.pkl\",'wb') as f:\n",
    "    pickle.dump(Graphon,f)"
   ]
  },
  {
   "cell_type": "code",
   "execution_count": null,
   "metadata": {},
   "outputs": [],
   "source": []
  }
 ],
 "metadata": {
  "kernelspec": {
   "display_name": "Python 3",
   "language": "python",
   "name": "python3"
  },
  "language_info": {
   "codemirror_mode": {
    "name": "ipython",
    "version": 3
   },
   "file_extension": ".py",
   "mimetype": "text/x-python",
   "name": "python",
   "nbconvert_exporter": "python",
   "pygments_lexer": "ipython3",
   "version": "3.8.3"
  }
 },
 "nbformat": 4,
 "nbformat_minor": 4
}
