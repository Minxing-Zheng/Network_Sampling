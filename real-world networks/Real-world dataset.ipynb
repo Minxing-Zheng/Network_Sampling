{
 "cells": [
  {
   "cell_type": "code",
   "execution_count": 1,
   "metadata": {},
   "outputs": [],
   "source": [
    "import networkx as nx \n",
    "import numpy as np\n",
    "import pandas as pd\n",
    "import community\n",
    "from rpy2 import robjects\n",
    "import rpy2.robjects.packages as rpackages\n",
    "mclust = rpackages.importr(\"mclust\")\n",
    "import rpy2.robjects.numpy2ri\n",
    "rpy2.robjects.numpy2ri.activate()\n",
    "import matplotlib.pyplot as plt\n",
    "import pickle"
   ]
  },
  {
   "cell_type": "markdown",
   "metadata": {},
   "source": [
    "## Lastfm"
   ]
  },
  {
   "cell_type": "code",
   "execution_count": 2,
   "metadata": {},
   "outputs": [
    {
     "name": "stdout",
     "output_type": "stream",
     "text": [
      "Name: \n",
      "Type: Graph\n",
      "Number of nodes: 7624\n",
      "Number of edges: 27806\n",
      "Average degree:   7.2943\n"
     ]
    }
   ],
   "source": [
    "lastfm=pd.read_csv(\"/Users/app/Desktop/科研资料/With Prof/Prof Qin/Networ Sampling/dataset/Network sampling/Lastfm/lasftm_asia/lastfm_asia_edges.csv\")\n",
    "\n",
    "Edge=[]\n",
    "for i in range(len(lastfm)):\n",
    "    edge=(lastfm.node_1[i],lastfm.node_2[i])\n",
    "    Edge.append(edge)\n",
    "\n",
    "\n",
    "lastfm = nx.Graph()\n",
    "lastfm.add_edges_from(Edge)\n",
    "print(nx.info(lastfm))\n"
   ]
  },
  {
   "cell_type": "markdown",
   "metadata": {},
   "source": [
    "## P2P"
   ]
  },
  {
   "cell_type": "code",
   "execution_count": 3,
   "metadata": {},
   "outputs": [
    {
     "name": "stdout",
     "output_type": "stream",
     "text": [
      "Name: \n",
      "Type: Graph\n",
      "Number of nodes: 6301\n",
      "Number of edges: 20777\n",
      "Average degree:   6.5948\n"
     ]
    }
   ],
   "source": [
    "p2p=pd.read_csv(\"/Users/app/Desktop/科研资料/With Prof/Prof Qin/Networ Sampling/dataset/Network sampling/Gnutella peer-to-peer network, August 8 2002/p2p-Gnutella08.csv\",names=['source','target','rate','time'])\n",
    "Edge_bit=[]\n",
    "for i in range(len(p2p)):\n",
    "    edge=(p2p.source[i],p2p.target[i])\n",
    "    Edge_bit.append(edge)    \n",
    "\n",
    "p2p = nx.Graph()\n",
    "p2p.add_edges_from(Edge_bit)\n",
    "print(nx.info(p2p))"
   ]
  },
  {
   "cell_type": "markdown",
   "metadata": {},
   "source": [
    "## Arixv Coauthor"
   ]
  },
  {
   "cell_type": "code",
   "execution_count": 4,
   "metadata": {},
   "outputs": [
    {
     "name": "stdout",
     "output_type": "stream",
     "text": [
      "Name: \n",
      "Type: Graph\n",
      "Number of nodes: 5242\n",
      "Number of edges: 14496\n",
      "Average degree:   5.5307\n"
     ]
    }
   ],
   "source": [
    "coauthor=pd.read_csv(\"/Users/app/Desktop/科研资料/With Prof/Prof Qin/Networ Sampling/dataset/Network sampling/General Relativity and Quantum Cosmology collaboration network/coauthor.csv\",names=['node_1','node_2'])\n",
    "Edge=[]\n",
    "for i in range(len(coauthor)):\n",
    "    edge=(coauthor.node_1[i],coauthor.node_2[i])\n",
    "    Edge.append(edge)\n",
    "\n",
    "coauthor = nx.Graph()\n",
    "coauthor.add_edges_from(Edge)\n",
    "print(nx.info(coauthor))"
   ]
  },
  {
   "cell_type": "markdown",
   "metadata": {},
   "source": [
    "## Bitcoin"
   ]
  },
  {
   "cell_type": "code",
   "execution_count": 5,
   "metadata": {},
   "outputs": [
    {
     "name": "stdout",
     "output_type": "stream",
     "text": [
      "Name: \n",
      "Type: Graph\n",
      "Number of nodes: 3783\n",
      "Number of edges: 14124\n",
      "Average degree:   7.4671\n"
     ]
    }
   ],
   "source": [
    "bitcoin=pd.read_csv(\"/Users/app/Desktop/科研资料/With Prof/Prof Qin/Networ Sampling/dataset/Network sampling/Bitcoin Alpha trust weighted signed network/soc-sign-bitcoinalpha.csv\",names=['source','target','rate','time'])\n",
    "Edge_bit=[]\n",
    "for i in range(len(bitcoin)):\n",
    "    edge=(bitcoin.source[i],bitcoin.target[i])\n",
    "    Edge_bit.append(edge)  \n",
    "bitcoin = nx.Graph()\n",
    "bitcoin.add_edges_from(Edge_bit)\n",
    "print(nx.info(bitcoin))\n"
   ]
  },
  {
   "cell_type": "markdown",
   "metadata": {},
   "source": [
    "## Email"
   ]
  },
  {
   "cell_type": "code",
   "execution_count": 2,
   "metadata": {},
   "outputs": [
    {
     "name": "stdout",
     "output_type": "stream",
     "text": [
      "Name: \n",
      "Type: Graph\n",
      "Number of nodes: 1005\n",
      "Number of edges: 16706\n",
      "Average degree:  33.2458\n"
     ]
    }
   ],
   "source": [
    "with open (\"/Users/app/Desktop/科研资料/With Prof/Prof Qin/Networ Sampling/dataset/Network sampling/email-Eu-core network/email-Eu-core.txt\",\"r\") as f:\n",
    "    re=f.readlines()\n",
    "node_1=[];node_2=[]\n",
    "for x in re:\n",
    "    node_1.append(int(x.split()[0]))\n",
    "    node_2.append(int(x.split()[1]))\n",
    "    \n",
    "Edge=[]\n",
    "for i in range(len(node_1)):\n",
    "    edge=(node_1[i],node_2[i])\n",
    "    Edge.append(edge)\n",
    "\n",
    "E = nx.Graph()\n",
    "E.add_edges_from(Edge)\n",
    "print(nx.info(E))"
   ]
  },
  {
   "cell_type": "code",
   "execution_count": 14,
   "metadata": {},
   "outputs": [
    {
     "name": "stdout",
     "output_type": "stream",
     "text": [
      "27 clusters based on modularity\n",
      "(1005, 5)\n",
      "fitting ...\n",
      "  |======================================================================| 100%\n"
     ]
    }
   ],
   "source": [
    "#clustering related\n",
    "model=E\n",
    "part_model = community.best_partition(model)\n",
    "mod_model = community.modularity(part_model,model)\n",
    "clustnum_model=len(np.unique(list(part_model.values())))\n",
    "print(clustnum_model,'clusters based on modularity')\n",
    "A=nx.adjacency_matrix(model)\n",
    "eigval,eigvec=np.linalg.eig(A.A)\n",
    "idx = eigval.argsort()[::-1]   \n",
    "eigval_first =eigval[idx][0:5]\n",
    "eigvec_first = eigvec[:,idx][:,0:5]\n",
    "S=np.diag(eigval_first)\n",
    "S_sqrt=np.sqrt(S)\n",
    "X_hat=eigvec_first@S_sqrt\n",
    "print(X_hat.shape)\n",
    "Clust=mclust.Mclust(X_hat)\n"
   ]
  },
  {
   "cell_type": "code",
   "execution_count": 18,
   "metadata": {
    "scrolled": false
   },
   "outputs": [
    {
     "name": "stdout",
     "output_type": "stream",
     "text": [
      "27 clusters based on modularity\n",
      "9 clusters based on spectral clustering\n"
     ]
    },
    {
     "data": {
      "image/png": "[encoded data removed]",
      "text/plain": [
       "<Figure size 1008x432 with 2 Axes>"
      ]
     },
     "metadata": {
      "needs_background": "light"
     },
     "output_type": "display_data"
    },
    {
     "data": {
      "text/plain": [
       "<Figure size 576x360 with 0 Axes>"
      ]
     },
     "metadata": {},
     "output_type": "display_data"
    }
   ],
   "source": [
    "fig, axes = plt.subplots(ncols=2, nrows=1,figsize=(14,6))#,sharex=True,sharey=True)\n",
    "\n",
    "keys,counts=np.unique(list(part_model.values()),return_counts=True)\n",
    "keys=keys+1\n",
    "print(len(keys),'clusters based on modularity')\n",
    "axes[0].bar(list(keys), counts)\n",
    "for a,b in zip(keys,counts):\n",
    "    axes[0].text(a,b+0.1,'%.0f'%b,ha = 'center',va = 'bottom',fontsize=10)\n",
    "axes[0].set_title(\"Modularity based clusters\")\n",
    "\n",
    "classification=Clust[14]\n",
    "\n",
    "plt.figure(figsize=(8,5))\n",
    "keys, counts = np.unique(classification, return_counts=True)\n",
    "clustnum_spec_model=keys\n",
    "axes[1].bar(keys, counts)\n",
    "for a,b in zip(keys,counts):\n",
    "    axes[1].text(a,b+0.1,'%.0f'%b,ha = 'center',va = 'bottom',fontsize=10)\n",
    "axes[1].set_title(\"Spectral clustering based clusters\")\n",
    "print(len(keys),'clusters based on spectral clustering')\n",
    "plt.show()"
   ]
  },
  {
   "cell_type": "code",
   "execution_count": null,
   "metadata": {},
   "outputs": [],
   "source": []
  }
 ],
 "metadata": {
  "kernelspec": {
   "display_name": "Python 3",
   "language": "python",
   "name": "python3"
  },
  "language_info": {
   "codemirror_mode": {
    "name": "ipython",
    "version": 3
   },
   "file_extension": ".py",
   "mimetype": "text/x-python",
   "name": "python",
   "nbconvert_exporter": "python",
   "pygments_lexer": "ipython3",
   "version": "3.8.3"
  }
 },
 "nbformat": 4,
 "nbformat_minor": 4
}
